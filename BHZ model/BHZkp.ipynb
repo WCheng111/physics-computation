{
 "cells": [
  {
   "cell_type": "code",
   "execution_count": 24,
   "id": "c8680237",
   "metadata": {},
   "outputs": [
    {
     "name": "stdout",
     "output_type": "stream",
     "text": [
      "[[-1  0  0  0  0  0]\n",
      " [ 0 -1  0  0  0  0]\n",
      " [ 0  0  1  0  0  0]\n",
      " [ 0  0  0  1  0  0]\n",
      " [ 0  0  0  0  1  0]\n",
      " [ 0  0  0  0  0  1]]\n"
     ]
    },
    {
     "data": {
      "text/latex": [
       "$\\displaystyle \\left[\\begin{matrix}1 & 0 & 0 & 0 & 0 & 0\\\\0 & 1 & 0 & 0 & 0 & 0\\\\0 & 0 & 0 & 0 & 0 & 0\\\\0 & 0 & 0 & 0 & 0 & 0\\\\0 & 0 & 0 & 0 & 0 & 0\\\\0 & 0 & 0 & 0 & 0 & 0\\end{matrix}\\right]$"
      ],
      "text/plain": [
       "Matrix([\n",
       "[1, 0, 0, 0, 0, 0],\n",
       "[0, 1, 0, 0, 0, 0],\n",
       "[0, 0, 0, 0, 0, 0],\n",
       "[0, 0, 0, 0, 0, 0],\n",
       "[0, 0, 0, 0, 0, 0],\n",
       "[0, 0, 0, 0, 0, 0]])"
      ]
     },
     "metadata": {},
     "output_type": "display_data"
    },
    {
     "data": {
      "text/latex": [
       "$\\displaystyle \\left[\\begin{matrix}0 & 0 & 0 & 0 & 0 & 0\\\\0 & 0 & 0 & 0 & 0 & 0\\\\0 & 0 & 1 & 0 & 0 & 0\\\\0 & 0 & 0 & 1 & 0 & 0\\\\0 & 0 & 0 & 0 & 0 & 0\\\\0 & 0 & 0 & 0 & 0 & 0\\end{matrix}\\right]$"
      ],
      "text/plain": [
       "Matrix([\n",
       "[0, 0, 0, 0, 0, 0],\n",
       "[0, 0, 0, 0, 0, 0],\n",
       "[0, 0, 1, 0, 0, 0],\n",
       "[0, 0, 0, 1, 0, 0],\n",
       "[0, 0, 0, 0, 0, 0],\n",
       "[0, 0, 0, 0, 0, 0]])"
      ]
     },
     "metadata": {},
     "output_type": "display_data"
    },
    {
     "data": {
      "text/latex": [
       "$\\displaystyle \\left[\\begin{matrix}0 & 0 & 0 & 0 & 0 & 0\\\\0 & 0 & 0 & 0 & 0 & 0\\\\0 & 0 & 0 & 0 & 0 & 0\\\\0 & 0 & 0 & 0 & 0 & 0\\\\0 & 0 & 0 & 0 & 1 & 0\\\\0 & 0 & 0 & 0 & 0 & 1\\end{matrix}\\right]$"
      ],
      "text/plain": [
       "Matrix([\n",
       "[0, 0, 0, 0, 0, 0],\n",
       "[0, 0, 0, 0, 0, 0],\n",
       "[0, 0, 0, 0, 0, 0],\n",
       "[0, 0, 0, 0, 0, 0],\n",
       "[0, 0, 0, 0, 1, 0],\n",
       "[0, 0, 0, 0, 0, 1]])"
      ]
     },
     "metadata": {},
     "output_type": "display_data"
    },
    {
     "data": {
      "text/latex": [
       "$\\displaystyle \\left[\\begin{matrix}0 & 0 & 0 & i k_{x} + k_{y} & 0 & 0\\\\0 & 0 & i k_{x} - k_{y} & 0 & 0 & 0\\\\0 & - i k_{x} - k_{y} & 0 & 0 & 0 & 0\\\\- i k_{x} + k_{y} & 0 & 0 & 0 & 0 & 0\\\\0 & 0 & 0 & 0 & 0 & 0\\\\0 & 0 & 0 & 0 & 0 & 0\\end{matrix}\\right]$"
      ],
      "text/plain": [
       "Matrix([\n",
       "[           0,            0,           0, I*k_x + k_y, 0, 0],\n",
       "[           0,            0, I*k_x - k_y,           0, 0, 0],\n",
       "[           0, -I*k_x - k_y,           0,           0, 0, 0],\n",
       "[-I*k_x + k_y,            0,           0,           0, 0, 0],\n",
       "[           0,            0,           0,           0, 0, 0],\n",
       "[           0,            0,           0,           0, 0, 0]])"
      ]
     },
     "metadata": {},
     "output_type": "display_data"
    },
    {
     "data": {
      "text/latex": [
       "$\\displaystyle \\left[\\begin{matrix}0 & 0 & 0 & 0 & - i k_{x} + k_{y} & 0\\\\0 & 0 & 0 & 0 & 0 & - i k_{x} - k_{y}\\\\0 & 0 & 0 & 0 & 0 & 0\\\\0 & 0 & 0 & 0 & 0 & 0\\\\i k_{x} + k_{y} & 0 & 0 & 0 & 0 & 0\\\\0 & i k_{x} - k_{y} & 0 & 0 & 0 & 0\\end{matrix}\\right]$"
      ],
      "text/plain": [
       "Matrix([\n",
       "[          0,           0, 0, 0, -I*k_x + k_y,            0],\n",
       "[          0,           0, 0, 0,            0, -I*k_x - k_y],\n",
       "[          0,           0, 0, 0,            0,            0],\n",
       "[          0,           0, 0, 0,            0,            0],\n",
       "[I*k_x + k_y,           0, 0, 0,            0,            0],\n",
       "[          0, I*k_x - k_y, 0, 0,            0,            0]])"
      ]
     },
     "metadata": {},
     "output_type": "display_data"
    },
    {
     "data": {
      "text/latex": [
       "$\\displaystyle \\left[\\begin{matrix}0 & 0 & i k_{z} & 0 & 0 & 0\\\\0 & 0 & 0 & - i k_{z} & 0 & 0\\\\- i k_{z} & 0 & 0 & 0 & 0 & 0\\\\0 & i k_{z} & 0 & 0 & 0 & 0\\\\0 & 0 & 0 & 0 & 0 & 0\\\\0 & 0 & 0 & 0 & 0 & 0\\end{matrix}\\right]$"
      ],
      "text/plain": [
       "Matrix([\n",
       "[     0,     0, I*k_z,      0, 0, 0],\n",
       "[     0,     0,     0, -I*k_z, 0, 0],\n",
       "[-I*k_z,     0,     0,      0, 0, 0],\n",
       "[     0, I*k_z,     0,      0, 0, 0],\n",
       "[     0,     0,     0,      0, 0, 0],\n",
       "[     0,     0,     0,      0, 0, 0]])"
      ]
     },
     "metadata": {},
     "output_type": "display_data"
    },
    {
     "data": {
      "text/latex": [
       "$\\displaystyle \\left[\\begin{matrix}k_{z}^{2} & 0 & 0 & 0 & 0 & 0\\\\0 & k_{z}^{2} & 0 & 0 & 0 & 0\\\\0 & 0 & 0 & 0 & 0 & 0\\\\0 & 0 & 0 & 0 & 0 & 0\\\\0 & 0 & 0 & 0 & 0 & 0\\\\0 & 0 & 0 & 0 & 0 & 0\\end{matrix}\\right]$"
      ],
      "text/plain": [
       "Matrix([\n",
       "[k_z**2,      0, 0, 0, 0, 0],\n",
       "[     0, k_z**2, 0, 0, 0, 0],\n",
       "[     0,      0, 0, 0, 0, 0],\n",
       "[     0,      0, 0, 0, 0, 0],\n",
       "[     0,      0, 0, 0, 0, 0],\n",
       "[     0,      0, 0, 0, 0, 0]])"
      ]
     },
     "metadata": {},
     "output_type": "display_data"
    },
    {
     "data": {
      "text/latex": [
       "$\\displaystyle \\left[\\begin{matrix}0 & 0 & 0 & 0 & 0 & 0\\\\0 & 0 & 0 & 0 & 0 & 0\\\\0 & 0 & k_{z}^{2} & 0 & 0 & 0\\\\0 & 0 & 0 & k_{z}^{2} & 0 & 0\\\\0 & 0 & 0 & 0 & 0 & 0\\\\0 & 0 & 0 & 0 & 0 & 0\\end{matrix}\\right]$"
      ],
      "text/plain": [
       "Matrix([\n",
       "[0, 0,      0,      0, 0, 0],\n",
       "[0, 0,      0,      0, 0, 0],\n",
       "[0, 0, k_z**2,      0, 0, 0],\n",
       "[0, 0,      0, k_z**2, 0, 0],\n",
       "[0, 0,      0,      0, 0, 0],\n",
       "[0, 0,      0,      0, 0, 0]])"
      ]
     },
     "metadata": {},
     "output_type": "display_data"
    },
    {
     "data": {
      "text/latex": [
       "$\\displaystyle \\left[\\begin{matrix}0 & 0 & 0 & 0 & 0 & 0\\\\0 & 0 & 0 & 0 & 0 & 0\\\\0 & 0 & 0 & 0 & 0 & 0\\\\0 & 0 & 0 & 0 & 0 & 0\\\\0 & 0 & 0 & 0 & k_{z}^{2} & 0\\\\0 & 0 & 0 & 0 & 0 & k_{z}^{2}\\end{matrix}\\right]$"
      ],
      "text/plain": [
       "Matrix([\n",
       "[0, 0, 0, 0,      0,      0],\n",
       "[0, 0, 0, 0,      0,      0],\n",
       "[0, 0, 0, 0,      0,      0],\n",
       "[0, 0, 0, 0,      0,      0],\n",
       "[0, 0, 0, 0, k_z**2,      0],\n",
       "[0, 0, 0, 0,      0, k_z**2]])"
      ]
     },
     "metadata": {},
     "output_type": "display_data"
    },
    {
     "data": {
      "text/latex": [
       "$\\displaystyle \\left[\\begin{matrix}0 & 0 & 0 & 0 & 0 & 0\\\\0 & 0 & 0 & 0 & 0 & 0\\\\0 & 0 & 0 & 0 & 0 & i k_{x} k_{y}\\\\0 & 0 & 0 & 0 & - i k_{x} k_{y} & 0\\\\0 & 0 & 0 & i k_{x} k_{y} & 0 & 0\\\\0 & 0 & - i k_{x} k_{y} & 0 & 0 & 0\\end{matrix}\\right]$"
      ],
      "text/plain": [
       "Matrix([\n",
       "[0, 0,          0,         0,          0,         0],\n",
       "[0, 0,          0,         0,          0,         0],\n",
       "[0, 0,          0,         0,          0, I*k_x*k_y],\n",
       "[0, 0,          0,         0, -I*k_x*k_y,         0],\n",
       "[0, 0,          0, I*k_x*k_y,          0,         0],\n",
       "[0, 0, -I*k_x*k_y,         0,          0,         0]])"
      ]
     },
     "metadata": {},
     "output_type": "display_data"
    },
    {
     "data": {
      "text/latex": [
       "$\\displaystyle \\left[\\begin{matrix}k_{x}^{2} + k_{y}^{2} & 0 & 0 & 0 & 0 & 0\\\\0 & k_{x}^{2} + k_{y}^{2} & 0 & 0 & 0 & 0\\\\0 & 0 & 0 & 0 & 0 & 0\\\\0 & 0 & 0 & 0 & 0 & 0\\\\0 & 0 & 0 & 0 & 0 & 0\\\\0 & 0 & 0 & 0 & 0 & 0\\end{matrix}\\right]$"
      ],
      "text/plain": [
       "Matrix([\n",
       "[k_x**2 + k_y**2,               0, 0, 0, 0, 0],\n",
       "[              0, k_x**2 + k_y**2, 0, 0, 0, 0],\n",
       "[              0,               0, 0, 0, 0, 0],\n",
       "[              0,               0, 0, 0, 0, 0],\n",
       "[              0,               0, 0, 0, 0, 0],\n",
       "[              0,               0, 0, 0, 0, 0]])"
      ]
     },
     "metadata": {},
     "output_type": "display_data"
    },
    {
     "data": {
      "text/latex": [
       "$\\displaystyle \\left[\\begin{matrix}0 & 0 & 0 & 0 & 0 & 0\\\\0 & 0 & 0 & 0 & 0 & 0\\\\0 & 0 & k_{x}^{2} + k_{y}^{2} & 0 & 0 & 0\\\\0 & 0 & 0 & k_{x}^{2} + k_{y}^{2} & 0 & 0\\\\0 & 0 & 0 & 0 & 0 & 0\\\\0 & 0 & 0 & 0 & 0 & 0\\end{matrix}\\right]$"
      ],
      "text/plain": [
       "Matrix([\n",
       "[0, 0,               0,               0, 0, 0],\n",
       "[0, 0,               0,               0, 0, 0],\n",
       "[0, 0, k_x**2 + k_y**2,               0, 0, 0],\n",
       "[0, 0,               0, k_x**2 + k_y**2, 0, 0],\n",
       "[0, 0,               0,               0, 0, 0],\n",
       "[0, 0,               0,               0, 0, 0]])"
      ]
     },
     "metadata": {},
     "output_type": "display_data"
    },
    {
     "data": {
      "text/latex": [
       "$\\displaystyle \\left[\\begin{matrix}0 & 0 & 0 & 0 & 0 & 0\\\\0 & 0 & 0 & 0 & 0 & 0\\\\0 & 0 & 0 & 0 & 0 & - k_{x}^{2} + k_{y}^{2}\\\\0 & 0 & 0 & 0 & - k_{x}^{2} + k_{y}^{2} & 0\\\\0 & 0 & 0 & - k_{x}^{2} + k_{y}^{2} & 0 & 0\\\\0 & 0 & - k_{x}^{2} + k_{y}^{2} & 0 & 0 & 0\\end{matrix}\\right]$"
      ],
      "text/plain": [
       "Matrix([\n",
       "[0, 0,                0,                0,                0,                0],\n",
       "[0, 0,                0,                0,                0,                0],\n",
       "[0, 0,                0,                0,                0, -k_x**2 + k_y**2],\n",
       "[0, 0,                0,                0, -k_x**2 + k_y**2,                0],\n",
       "[0, 0,                0, -k_x**2 + k_y**2,                0,                0],\n",
       "[0, 0, -k_x**2 + k_y**2,                0,                0,                0]])"
      ]
     },
     "metadata": {},
     "output_type": "display_data"
    },
    {
     "data": {
      "text/latex": [
       "$\\displaystyle \\left[\\begin{matrix}0 & 0 & 0 & 0 & 0 & 0\\\\0 & 0 & 0 & 0 & 0 & 0\\\\0 & 0 & 0 & 0 & 0 & 0\\\\0 & 0 & 0 & 0 & 0 & 0\\\\0 & 0 & 0 & 0 & k_{x}^{2} + k_{y}^{2} & 0\\\\0 & 0 & 0 & 0 & 0 & k_{x}^{2} + k_{y}^{2}\\end{matrix}\\right]$"
      ],
      "text/plain": [
       "Matrix([\n",
       "[0, 0, 0, 0,               0,               0],\n",
       "[0, 0, 0, 0,               0,               0],\n",
       "[0, 0, 0, 0,               0,               0],\n",
       "[0, 0, 0, 0,               0,               0],\n",
       "[0, 0, 0, 0, k_x**2 + k_y**2,               0],\n",
       "[0, 0, 0, 0,               0, k_x**2 + k_y**2]])"
      ]
     },
     "metadata": {},
     "output_type": "display_data"
    },
    {
     "data": {
      "text/latex": [
       "$\\displaystyle \\left[\\begin{matrix}0 & 0 & 0 & 0 & 0 & 0\\\\0 & 0 & 0 & 0 & 0 & 0\\\\0 & 0 & 0 & 0 & k_{x} k_{z} + i k_{y} k_{z} & 0\\\\0 & 0 & 0 & 0 & 0 & - k_{x} k_{z} + i k_{y} k_{z}\\\\0 & 0 & k_{x} k_{z} - i k_{y} k_{z} & 0 & 0 & 0\\\\0 & 0 & 0 & - k_{x} k_{z} - i k_{y} k_{z} & 0 & 0\\end{matrix}\\right]$"
      ],
      "text/plain": [
       "Matrix([\n",
       "[0, 0,                   0,                    0,                   0,                    0],\n",
       "[0, 0,                   0,                    0,                   0,                    0],\n",
       "[0, 0,                   0,                    0, k_x*k_z + I*k_y*k_z,                    0],\n",
       "[0, 0,                   0,                    0,                   0, -k_x*k_z + I*k_y*k_z],\n",
       "[0, 0, k_x*k_z - I*k_y*k_z,                    0,                   0,                    0],\n",
       "[0, 0,                   0, -k_x*k_z - I*k_y*k_z,                   0,                    0]])"
      ]
     },
     "metadata": {},
     "output_type": "display_data"
    },
    {
     "name": "stdout",
     "output_type": "stream",
     "text": [
      "5\n"
     ]
    }
   ],
   "source": [
    "import numpy as np\n",
    "import sympy\n",
    "import qsymm\n",
    "import math\n",
    "#空间反演\n",
    "Inverse=np.array([[-1,0,0,0,0,0],[0,-1,0,0,0,0],[0,0,1,0,0,0],[0,0,0,1,0,0],[0,0,0,0,1,0],\n",
    "                  [0,0,0,0,0,1]])\n",
    "IS = qsymm.inversion(3, Inverse)\n",
    "print(Inverse)\n",
    "\n",
    "R4z=1/(math.sqrt(2))*np.array([[1-1j,0,0,0,0,0],[0,1+1j,0,0,0,0],[0,0,1-1j,0,0,0],\n",
    "              [0,0,0,1+1j,0,0],[0,0,0,0,-1-1j,0],[0,0,0,0,0,-1+1j]])\n",
    "rot4z = qsymm.rotation(1/4,axis=[0,0,1],U=R4z)\n",
    "\n",
    "\n",
    "\n",
    "R2x=np.array([[0,1j,0,0,0,0],[1j,0,0,0,0,0],[0,0,0,1j,0,0],[0,0,1j,0,0,0],[0,0,0,0,0,1j],\n",
    "                  [0,0,0,0,1j,0]])\n",
    "\n",
    "rot2x= qsymm.rotation(1/2, axis=[1,0,0],U=R2x)\n",
    "\n",
    "\n",
    "T=np.array([[0,-1,0,0,0,0],[1,0,0,0,0,0],[0,0,0,1,0,0],[0,0,-1,0,0,0],[0,0,0,0,0,-1],\n",
    "                  [0,0,0,0,1,0]])\n",
    "TS = qsymm.time_reversal(3, T)\n",
    "\n",
    "symmetries = [rot4z,rot2x,TS,IS]\n",
    "\n",
    "dim = 3\n",
    "total_power = 2\n",
    "\n",
    "x= qsymm.continuum_hamiltonian(symmetries, dim, total_power, prettify=True)\n",
    "qsymm.display_family(x)\n"
   ]
  },
  {
   "cell_type": "code",
   "execution_count": 25,
   "id": "815f12f9",
   "metadata": {},
   "outputs": [
    {
     "name": "stdout",
     "output_type": "stream",
     "text": [
      "[[[ 0.       +0.j         0.8660254+0.j         0.       +0.j\n",
      "    0.       +0.j       ]\n",
      "  [ 0.8660254+0.j         0.       +0.j         1.       +0.j\n",
      "    0.       +0.j       ]\n",
      "  [ 0.       +0.j         1.       +0.j         0.       +0.j\n",
      "    0.8660254+0.j       ]\n",
      "  [ 0.       +0.j         0.       +0.j         0.8660254+0.j\n",
      "    0.       +0.j       ]]\n",
      "\n",
      " [[ 0.       +0.j         0.       -0.8660254j  0.       +0.j\n",
      "    0.       +0.j       ]\n",
      "  [ 0.       +0.8660254j  0.       +0.j         0.       -1.j\n",
      "    0.       +0.j       ]\n",
      "  [ 0.       +0.j         0.       +1.j         0.       +0.j\n",
      "    0.       -0.8660254j]\n",
      "  [ 0.       +0.j         0.       +0.j         0.       +0.8660254j\n",
      "    0.       +0.j       ]]\n",
      "\n",
      " [[ 1.5      +0.j         0.       +0.j         0.       +0.j\n",
      "    0.       +0.j       ]\n",
      "  [ 0.       +0.j         0.5      +0.j         0.       +0.j\n",
      "    0.       +0.j       ]\n",
      "  [ 0.       +0.j         0.       +0.j        -0.5      +0.j\n",
      "    0.       +0.j       ]\n",
      "  [ 0.       +0.j         0.       +0.j         0.       +0.j\n",
      "   -1.5      +0.j       ]]]\n"
     ]
    }
   ],
   "source": [
    "J = qsymm.groups.spin_matrices(3/2)\n",
    "print(J)"
   ]
  },
  {
   "cell_type": "code",
   "execution_count": null,
   "id": "3e0fec2d",
   "metadata": {},
   "outputs": [],
   "source": []
  }
 ],
 "metadata": {
  "kernelspec": {
   "display_name": "Python 3 (ipykernel)",
   "language": "python",
   "name": "python3"
  },
  "language_info": {
   "codemirror_mode": {
    "name": "ipython",
    "version": 3
   },
   "file_extension": ".py",
   "mimetype": "text/x-python",
   "name": "python",
   "nbconvert_exporter": "python",
   "pygments_lexer": "ipython3",
   "version": "3.9.16"
  }
 },
 "nbformat": 4,
 "nbformat_minor": 5
}
